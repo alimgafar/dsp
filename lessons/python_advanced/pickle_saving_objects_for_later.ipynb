{
 "cells": [
  {
   "cell_type": "code",
   "execution_count": 1,
   "metadata": {},
   "outputs": [
    {
     "name": "stdout",
     "output_type": "stream",
     "text": [
      "Python Version: 3.7.7 (default, Mar 10 2020, 15:43:27) \n",
      "[Clang 10.0.0 (clang-1000.11.45.5)] \n",
      "\n"
     ]
    }
   ],
   "source": [
    "import sys\n",
    "print(\"Python Version:\", sys.version, '\\n')"
   ]
  },
  {
   "cell_type": "markdown",
   "metadata": {},
   "source": [
    "# Pickle: Saving Objects for Later"
   ]
  },
  {
   "cell_type": "markdown",
   "metadata": {},
   "source": [
    "Often in data science, we'll create some model or some version of our data and want to use it later. We have many options - we can save the coefficients, or save the data to csv, or...\n",
    "\n",
    "Actually, we don't have that many options. \n",
    "\n",
    "One way to overcome that is to save the python object to a file as a serialized object. That means we convert the entire object to a bunch of bytes, save those bytes into a file, and then have the ability to unpack those bytes back into their original format later. \n",
    "\n",
    "This is done by a module called `pickle`. Let's see it in action."
   ]
  },
  {
   "cell_type": "code",
   "execution_count": 2,
   "metadata": {},
   "outputs": [],
   "source": [
    "import pickle\n",
    "import random\n",
    "\n",
    "lots_of_noise = {\n",
    "    'CA': [random.randint(0,65) for _ in range(100)],\n",
    "    'IL': [random.randint(0,65) for _ in range(50)],\n",
    "    'NY': [random.randint(0,65) for _ in range(90)],\n",
    "    'WA': [random.randint(0,65) for _ in range(33)]\n",
    "}"
   ]
  },
  {
   "cell_type": "code",
   "execution_count": 3,
   "metadata": {},
   "outputs": [
    {
     "name": "stdout",
     "output_type": "stream",
     "text": [
      "{'CA': [48, 58, 54, 20, 41, 49, 35, 5, 61, 28, 55, 18, 23, 15, 39, 37, 3, 62, 12, 42, 19, 57, 35, 23, 1, 25, 15, 15, 17, 54, 14, 2, 32, 57, 64, 13, 30, 56, 48, 63, 43, 26, 40, 31, 61, 29, 39, 44, 44, 58, 21, 27, 16, 0, 44, 47, 31, 53, 35, 53, 1, 52, 33, 27, 7, 62, 15, 23, 60, 0, 26, 53, 7, 28, 16, 44, 44, 7, 23, 35, 38, 16, 60, 58, 11, 61, 65, 59, 6, 5, 3, 3, 49, 53, 2, 17, 11, 56, 49, 20], 'IL': [28, 41, 51, 3, 23, 32, 63, 1, 0, 24, 43, 46, 12, 31, 46, 33, 0, 58, 46, 53, 21, 40, 11, 63, 5, 55, 6, 65, 15, 34, 11, 39, 56, 62, 39, 58, 51, 61, 63, 14, 7, 12, 3, 39, 21, 47, 20, 6, 35, 56], 'NY': [57, 31, 31, 32, 64, 15, 61, 43, 13, 41, 28, 12, 19, 46, 31, 49, 52, 52, 38, 2, 3, 59, 17, 33, 50, 9, 46, 47, 63, 32, 16, 61, 10, 43, 65, 31, 17, 43, 63, 52, 40, 14, 26, 34, 26, 14, 7, 15, 36, 34, 6, 10, 54, 44, 47, 60, 50, 25, 22, 53, 27, 12, 22, 2, 59, 25, 42, 27, 63, 57, 38, 44, 59, 33, 64, 4, 12, 17, 18, 57, 6, 34, 34, 52, 16, 17, 31, 18, 16, 51], 'WA': [13, 10, 26, 18, 3, 40, 50, 30, 11, 31, 16, 65, 41, 13, 50, 26, 27, 30, 13, 18, 57, 17, 54, 35, 36, 40, 28, 20, 49, 27, 63, 3, 5]}\n"
     ]
    }
   ],
   "source": [
    "print(lots_of_noise)"
   ]
  },
  {
   "cell_type": "code",
   "execution_count": 10,
   "metadata": {},
   "outputs": [
    {
     "name": "stdout",
     "output_type": "stream",
     "text": [
      "Variable        Type      Data/Info\n",
      "-----------------------------------\n",
      "lots_of_noise   dict      n=4\n",
      "pickle          module    <module 'pickle' from '/u<...>lib/python3.7/pickle.py'>\n",
      "random          module    <module 'random' from '/u<...>lib/python3.7/random.py'>\n",
      "sys             module    <module 'sys' (built-in)>\n"
     ]
    }
   ],
   "source": [
    "whos"
   ]
  },
  {
   "cell_type": "markdown",
   "metadata": {},
   "source": [
    "We can see in this `whos` command that the object `lots_of_noise` exists and is a `dict` with 4 keys. Nice. Now let's look at our file system and verify that there isn't a file called `noise.pickle`."
   ]
  },
  {
   "cell_type": "code",
   "execution_count": 11,
   "metadata": {},
   "outputs": [
    {
     "name": "stdout",
     "output_type": "stream",
     "text": [
      "advanced_python_datatypes.ipynb       my_dataframe.pickle\r\n",
      "complexity.md                         noise.pickle\r\n",
      "deep_and_shallow_copy.ipynb           pickle_saving_objects_for_later.ipynb\r\n",
      "\u001b[34mdeep_copy_demo\u001b[m\u001b[m                        readme.md\r\n"
     ]
    }
   ],
   "source": [
    "!ls"
   ]
  },
  {
   "cell_type": "markdown",
   "metadata": {},
   "source": [
    "Okay, now we're ready to create a file and write the bytes to it. To do this with `pickle`, we use python's read-write streamer `open` and create a writable-binary (`wb`) file. We'll then use `pickle.dump` to put an object into that file as a string of bytes."
   ]
  },
  {
   "cell_type": "code",
   "execution_count": 12,
   "metadata": {},
   "outputs": [],
   "source": [
    "with open('noise.pickle', 'wb') as to_write:\n",
    "    pickle.dump(lots_of_noise, to_write)"
   ]
  },
  {
   "cell_type": "code",
   "execution_count": 13,
   "metadata": {},
   "outputs": [
    {
     "name": "stdout",
     "output_type": "stream",
     "text": [
      "advanced_python_datatypes.ipynb       my_dataframe.pickle\r\n",
      "complexity.md                         noise.pickle\r\n",
      "deep_and_shallow_copy.ipynb           pickle_saving_objects_for_later.ipynb\r\n",
      "\u001b[34mdeep_copy_demo\u001b[m\u001b[m                        readme.md\r\n"
     ]
    }
   ],
   "source": [
    "!ls"
   ]
  },
  {
   "cell_type": "markdown",
   "metadata": {},
   "source": [
    "Now let's delete `lots_of_noise` and prove to ourselves it doesn't exist in Python's memory anymore."
   ]
  },
  {
   "cell_type": "code",
   "execution_count": 14,
   "metadata": {},
   "outputs": [],
   "source": [
    "del lots_of_noise"
   ]
  },
  {
   "cell_type": "code",
   "execution_count": 15,
   "metadata": {},
   "outputs": [
    {
     "name": "stdout",
     "output_type": "stream",
     "text": [
      "Variable   Type              Data/Info\n",
      "--------------------------------------\n",
      "pickle     module            <module 'pickle' from '/u<...>lib/python3.7/pickle.py'>\n",
      "random     module            <module 'random' from '/u<...>lib/python3.7/random.py'>\n",
      "sys        module            <module 'sys' (built-in)>\n",
      "to_write   BufferedWriter    <_io.BufferedWriter name='noise.pickle'>\n"
     ]
    }
   ],
   "source": [
    "whos"
   ]
  },
  {
   "cell_type": "code",
   "execution_count": null,
   "metadata": {},
   "outputs": [],
   "source": [
    "print(lots_of_noise)"
   ]
  },
  {
   "cell_type": "markdown",
   "metadata": {},
   "source": [
    "Lovely. It's dead forever. Or is it?\n",
    "\n",
    "Let's open that `noise.pickle` file with read-binary (`rb`) mode. Then we'll ask pickle to retrieve the file with `pickle.load` and store it back in a variable."
   ]
  },
  {
   "cell_type": "code",
   "execution_count": 16,
   "metadata": {},
   "outputs": [],
   "source": [
    "with open('noise.pickle','rb') as read_file:\n",
    "    new_noise = pickle.load(read_file)"
   ]
  },
  {
   "cell_type": "code",
   "execution_count": 17,
   "metadata": {},
   "outputs": [
    {
     "name": "stdout",
     "output_type": "stream",
     "text": [
      "{'CA': [48, 58, 54, 20, 41, 49, 35, 5, 61, 28, 55, 18, 23, 15, 39, 37, 3, 62, 12, 42, 19, 57, 35, 23, 1, 25, 15, 15, 17, 54, 14, 2, 32, 57, 64, 13, 30, 56, 48, 63, 43, 26, 40, 31, 61, 29, 39, 44, 44, 58, 21, 27, 16, 0, 44, 47, 31, 53, 35, 53, 1, 52, 33, 27, 7, 62, 15, 23, 60, 0, 26, 53, 7, 28, 16, 44, 44, 7, 23, 35, 38, 16, 60, 58, 11, 61, 65, 59, 6, 5, 3, 3, 49, 53, 2, 17, 11, 56, 49, 20], 'IL': [28, 41, 51, 3, 23, 32, 63, 1, 0, 24, 43, 46, 12, 31, 46, 33, 0, 58, 46, 53, 21, 40, 11, 63, 5, 55, 6, 65, 15, 34, 11, 39, 56, 62, 39, 58, 51, 61, 63, 14, 7, 12, 3, 39, 21, 47, 20, 6, 35, 56], 'NY': [57, 31, 31, 32, 64, 15, 61, 43, 13, 41, 28, 12, 19, 46, 31, 49, 52, 52, 38, 2, 3, 59, 17, 33, 50, 9, 46, 47, 63, 32, 16, 61, 10, 43, 65, 31, 17, 43, 63, 52, 40, 14, 26, 34, 26, 14, 7, 15, 36, 34, 6, 10, 54, 44, 47, 60, 50, 25, 22, 53, 27, 12, 22, 2, 59, 25, 42, 27, 63, 57, 38, 44, 59, 33, 64, 4, 12, 17, 18, 57, 6, 34, 34, 52, 16, 17, 31, 18, 16, 51], 'WA': [13, 10, 26, 18, 3, 40, 50, 30, 11, 31, 16, 65, 41, 13, 50, 26, 27, 30, 13, 18, 57, 17, 54, 35, 36, 40, 28, 20, 49, 27, 63, 3, 5]}\n"
     ]
    }
   ],
   "source": [
    "print(new_noise)"
   ]
  },
  {
   "cell_type": "code",
   "execution_count": 18,
   "metadata": {},
   "outputs": [
    {
     "name": "stdout",
     "output_type": "stream",
     "text": [
      "Variable    Type              Data/Info\n",
      "---------------------------------------\n",
      "new_noise   dict              n=4\n",
      "pickle      module            <module 'pickle' from '/u<...>lib/python3.7/pickle.py'>\n",
      "random      module            <module 'random' from '/u<...>lib/python3.7/random.py'>\n",
      "read_file   BufferedReader    <_io.BufferedReader name='noise.pickle'>\n",
      "sys         module            <module 'sys' (built-in)>\n",
      "to_write    BufferedWriter    <_io.BufferedWriter name='noise.pickle'>\n"
     ]
    }
   ],
   "source": [
    "whos"
   ]
  },
  {
   "cell_type": "markdown",
   "metadata": {},
   "source": [
    "Random noise lives! We retrieved the entire structure from file. Nice."
   ]
  },
  {
   "cell_type": "markdown",
   "metadata": {},
   "source": [
    "### Okay, but I don't use dictionaries... I use pandas."
   ]
  },
  {
   "cell_type": "code",
   "execution_count": 19,
   "metadata": {},
   "outputs": [
    {
     "data": {
      "text/html": [
       "<div>\n",
       "<style scoped>\n",
       "    .dataframe tbody tr th:only-of-type {\n",
       "        vertical-align: middle;\n",
       "    }\n",
       "\n",
       "    .dataframe tbody tr th {\n",
       "        vertical-align: top;\n",
       "    }\n",
       "\n",
       "    .dataframe thead th {\n",
       "        text-align: right;\n",
       "    }\n",
       "</style>\n",
       "<table border=\"1\" class=\"dataframe\">\n",
       "  <thead>\n",
       "    <tr style=\"text-align: right;\">\n",
       "      <th></th>\n",
       "      <th>Yay</th>\n",
       "      <th>specific</th>\n",
       "      <th>column</th>\n",
       "      <th>names</th>\n",
       "    </tr>\n",
       "  </thead>\n",
       "  <tbody>\n",
       "    <tr>\n",
       "      <th>0</th>\n",
       "      <td>-6.229577</td>\n",
       "      <td>-4.633561</td>\n",
       "      <td>-2.673731</td>\n",
       "      <td>4.475854</td>\n",
       "    </tr>\n",
       "    <tr>\n",
       "      <th>1</th>\n",
       "      <td>4.449305</td>\n",
       "      <td>6.505136</td>\n",
       "      <td>8.053732</td>\n",
       "      <td>-6.086245</td>\n",
       "    </tr>\n",
       "    <tr>\n",
       "      <th>2</th>\n",
       "      <td>2.777446</td>\n",
       "      <td>-9.095191</td>\n",
       "      <td>-3.103116</td>\n",
       "      <td>2.297159</td>\n",
       "    </tr>\n",
       "    <tr>\n",
       "      <th>3</th>\n",
       "      <td>6.021830</td>\n",
       "      <td>9.987705</td>\n",
       "      <td>4.443300</td>\n",
       "      <td>-3.778336</td>\n",
       "    </tr>\n",
       "    <tr>\n",
       "      <th>4</th>\n",
       "      <td>0.445684</td>\n",
       "      <td>-6.638018</td>\n",
       "      <td>5.658299</td>\n",
       "      <td>-5.268672</td>\n",
       "    </tr>\n",
       "  </tbody>\n",
       "</table>\n",
       "</div>"
      ],
      "text/plain": [
       "        Yay  specific    column     names\n",
       "0 -6.229577 -4.633561 -2.673731  4.475854\n",
       "1  4.449305  6.505136  8.053732 -6.086245\n",
       "2  2.777446 -9.095191 -3.103116  2.297159\n",
       "3  6.021830  9.987705  4.443300 -3.778336\n",
       "4  0.445684 -6.638018  5.658299 -5.268672"
      ]
     },
     "execution_count": 19,
     "metadata": {},
     "output_type": "execute_result"
    }
   ],
   "source": [
    "import pandas as pd\n",
    "import numpy as np\n",
    "\n",
    "df = pd.DataFrame(np.random.uniform(-10,10, size=(100,4)), columns=['Yay','specific','column','names'])\n",
    "df.head(5)"
   ]
  },
  {
   "cell_type": "code",
   "execution_count": 20,
   "metadata": {},
   "outputs": [],
   "source": [
    "with open('my_dataframe.pickle', 'wb') as to_write:\n",
    "    pickle.dump(df, to_write)"
   ]
  },
  {
   "cell_type": "code",
   "execution_count": 21,
   "metadata": {},
   "outputs": [
    {
     "ename": "NameError",
     "evalue": "name 'df' is not defined",
     "output_type": "error",
     "traceback": [
      "\u001b[0;31m---------------------------------------------------------------------------\u001b[0m",
      "\u001b[0;31mNameError\u001b[0m                                 Traceback (most recent call last)",
      "\u001b[0;32m<ipython-input-21-3975f6306adf>\u001b[0m in \u001b[0;36m<module>\u001b[0;34m\u001b[0m\n\u001b[1;32m      1\u001b[0m \u001b[0;32mdel\u001b[0m \u001b[0mdf\u001b[0m\u001b[0;34m\u001b[0m\u001b[0;34m\u001b[0m\u001b[0m\n\u001b[1;32m      2\u001b[0m \u001b[0;34m\u001b[0m\u001b[0m\n\u001b[0;32m----> 3\u001b[0;31m \u001b[0mdf\u001b[0m\u001b[0;34m.\u001b[0m\u001b[0mhead\u001b[0m\u001b[0;34m(\u001b[0m\u001b[0;36m5\u001b[0m\u001b[0;34m)\u001b[0m\u001b[0;34m\u001b[0m\u001b[0;34m\u001b[0m\u001b[0m\n\u001b[0m",
      "\u001b[0;31mNameError\u001b[0m: name 'df' is not defined"
     ]
    }
   ],
   "source": [
    "del df\n",
    "\n",
    "df.head(5)"
   ]
  },
  {
   "cell_type": "code",
   "execution_count": 22,
   "metadata": {},
   "outputs": [
    {
     "name": "stdout",
     "output_type": "stream",
     "text": [
      "Variable    Type              Data/Info\n",
      "---------------------------------------\n",
      "new_noise   dict              n=4\n",
      "np          module            <module 'numpy' from '/us<...>kages/numpy/__init__.py'>\n",
      "pd          module            <module 'pandas' from '/u<...>ages/pandas/__init__.py'>\n",
      "pickle      module            <module 'pickle' from '/u<...>lib/python3.7/pickle.py'>\n",
      "random      module            <module 'random' from '/u<...>lib/python3.7/random.py'>\n",
      "read_file   BufferedReader    <_io.BufferedReader name='noise.pickle'>\n",
      "sys         module            <module 'sys' (built-in)>\n",
      "to_write    BufferedWriter    <_io.BufferedWriter name='my_dataframe.pickle'>\n"
     ]
    }
   ],
   "source": [
    "whos"
   ]
  },
  {
   "cell_type": "code",
   "execution_count": 23,
   "metadata": {},
   "outputs": [
    {
     "data": {
      "text/html": [
       "<div>\n",
       "<style scoped>\n",
       "    .dataframe tbody tr th:only-of-type {\n",
       "        vertical-align: middle;\n",
       "    }\n",
       "\n",
       "    .dataframe tbody tr th {\n",
       "        vertical-align: top;\n",
       "    }\n",
       "\n",
       "    .dataframe thead th {\n",
       "        text-align: right;\n",
       "    }\n",
       "</style>\n",
       "<table border=\"1\" class=\"dataframe\">\n",
       "  <thead>\n",
       "    <tr style=\"text-align: right;\">\n",
       "      <th></th>\n",
       "      <th>Yay</th>\n",
       "      <th>specific</th>\n",
       "      <th>column</th>\n",
       "      <th>names</th>\n",
       "    </tr>\n",
       "  </thead>\n",
       "  <tbody>\n",
       "    <tr>\n",
       "      <th>0</th>\n",
       "      <td>-6.229577</td>\n",
       "      <td>-4.633561</td>\n",
       "      <td>-2.673731</td>\n",
       "      <td>4.475854</td>\n",
       "    </tr>\n",
       "    <tr>\n",
       "      <th>1</th>\n",
       "      <td>4.449305</td>\n",
       "      <td>6.505136</td>\n",
       "      <td>8.053732</td>\n",
       "      <td>-6.086245</td>\n",
       "    </tr>\n",
       "    <tr>\n",
       "      <th>2</th>\n",
       "      <td>2.777446</td>\n",
       "      <td>-9.095191</td>\n",
       "      <td>-3.103116</td>\n",
       "      <td>2.297159</td>\n",
       "    </tr>\n",
       "    <tr>\n",
       "      <th>3</th>\n",
       "      <td>6.021830</td>\n",
       "      <td>9.987705</td>\n",
       "      <td>4.443300</td>\n",
       "      <td>-3.778336</td>\n",
       "    </tr>\n",
       "    <tr>\n",
       "      <th>4</th>\n",
       "      <td>0.445684</td>\n",
       "      <td>-6.638018</td>\n",
       "      <td>5.658299</td>\n",
       "      <td>-5.268672</td>\n",
       "    </tr>\n",
       "  </tbody>\n",
       "</table>\n",
       "</div>"
      ],
      "text/plain": [
       "        Yay  specific    column     names\n",
       "0 -6.229577 -4.633561 -2.673731  4.475854\n",
       "1  4.449305  6.505136  8.053732 -6.086245\n",
       "2  2.777446 -9.095191 -3.103116  2.297159\n",
       "3  6.021830  9.987705  4.443300 -3.778336\n",
       "4  0.445684 -6.638018  5.658299 -5.268672"
      ]
     },
     "execution_count": 23,
     "metadata": {},
     "output_type": "execute_result"
    }
   ],
   "source": [
    "with open('my_dataframe.pickle','rb') as read_file:\n",
    "    new_df = pickle.load(read_file)\n",
    "    \n",
    "new_df.head(5)"
   ]
  },
  {
   "cell_type": "code",
   "execution_count": 24,
   "metadata": {},
   "outputs": [
    {
     "name": "stdout",
     "output_type": "stream",
     "text": [
      "Variable    Type              Data/Info\n",
      "---------------------------------------\n",
      "new_df      DataFrame                  Yay  specific   <...>n\\n[100 rows x 4 columns]\n",
      "new_noise   dict              n=4\n",
      "np          module            <module 'numpy' from '/us<...>kages/numpy/__init__.py'>\n",
      "pd          module            <module 'pandas' from '/u<...>ages/pandas/__init__.py'>\n",
      "pickle      module            <module 'pickle' from '/u<...>lib/python3.7/pickle.py'>\n",
      "random      module            <module 'random' from '/u<...>lib/python3.7/random.py'>\n",
      "read_file   BufferedReader    <_io.BufferedReader name='my_dataframe.pickle'>\n",
      "sys         module            <module 'sys' (built-in)>\n",
      "to_write    BufferedWriter    <_io.BufferedWriter name='my_dataframe.pickle'>\n"
     ]
    }
   ],
   "source": [
    "whos"
   ]
  },
  {
   "cell_type": "markdown",
   "metadata": {},
   "source": [
    "Pickle is a great tool. One recommended way of using it is to make it an end point of every step in your process. Example:\n",
    "\n",
    "* I got my data! Nice. Pickle it and stop your \"getting the data\" notebook.\n",
    "* Load your data from pickle. Clean it. Save your clean data to a new pickle.\n",
    "* Load your cleaned_data pickle. Do analysis and visualize it.\n",
    "\n",
    "This can provide natural \"pick-up-where-I-left-off-but-before-I-broke-my-data\" points. It's a great way to control the flow of your data.\n",
    "\n",
    "#### Resources\n",
    "\n",
    "https://docs.python.org/3.7/library/pickle.html"
   ]
  },
  {
   "cell_type": "code",
   "execution_count": null,
   "metadata": {},
   "outputs": [],
   "source": []
  }
 ],
 "metadata": {
  "kernelspec": {
   "display_name": "Python 3",
   "language": "python",
   "name": "python3"
  },
  "language_info": {
   "codemirror_mode": {
    "name": "ipython",
    "version": 3
   },
   "file_extension": ".py",
   "mimetype": "text/x-python",
   "name": "python",
   "nbconvert_exporter": "python",
   "pygments_lexer": "ipython3",
   "version": "3.7.7"
  }
 },
 "nbformat": 4,
 "nbformat_minor": 1
}
